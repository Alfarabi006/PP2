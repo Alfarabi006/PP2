{
 "cells": [
  {
   "cell_type": "markdown",
   "metadata": {},
   "source": [
    "Task 1:"
   ]
  },
  {
   "cell_type": "code",
   "execution_count": null,
   "metadata": {},
   "outputs": [],
   "source": [
    "import re\n",
    "\n",
    "def match_a_followed_by_bs(text):\n",
    "    pattern = r'ab*'\n",
    "    if re.fullmatch(pattern, text):\n",
    "        return True\n",
    "    return False\n",
    "\n",
    "print(match_a_followed_by_bs(\"ab\"))\n",
    "print(match_a_followed_by_bs(\"a\"))\n",
    "print(match_a_followed_by_bs(\"ac\"))"
   ]
  },
  {
   "cell_type": "markdown",
   "metadata": {},
   "source": [
    "Task 2:"
   ]
  },
  {
   "cell_type": "code",
   "execution_count": null,
   "metadata": {},
   "outputs": [],
   "source": [
    "import re\n",
    "\n",
    "def match_a_followed_by_two_to_three_bs(text):\n",
    "    pattern = r'ab{2,3}'\n",
    "    if re.fullmatch(pattern, text):\n",
    "        return True\n",
    "    return False\n",
    "\n",
    "print(match_a_followed_by_two_to_three_bs(\"abb\"))\n",
    "print(match_a_followed_by_two_to_three_bs(\"abbb\"))\n",
    "print(match_a_followed_by_two_to_three_bs(\"ab\"))"
   ]
  },
  {
   "cell_type": "markdown",
   "metadata": {},
   "source": [
    "Task 3:"
   ]
  },
  {
   "cell_type": "code",
   "execution_count": null,
   "metadata": {},
   "outputs": [
    {
     "name": "stdout",
     "output_type": "stream",
     "text": [
      "['hello_world', 'foo_bar', 'wswqsw_s']\n"
     ]
    }
   ],
   "source": [
    "import re\n",
    "\n",
    "def find_lowercase_sequences_with_underscore(text):\n",
    "    pattern = r'[a-z]+_[a-z]+'\n",
    "    return re.findall(pattern, text)\n",
    "\n",
    "print(find_lowercase_sequences_with_underscore(\"hello_world foo_bar\"))"
   ]
  },
  {
   "cell_type": "markdown",
   "metadata": {},
   "source": [
    "Task 4:"
   ]
  },
  {
   "cell_type": "code",
   "execution_count": null,
   "metadata": {},
   "outputs": [],
   "source": [
    "import re\n",
    "\n",
    "def find_uppercase_followed_by_lowercase(text):\n",
    "    pattern = r'[A-Z][a-z]+'\n",
    "    return re.findall(pattern, text)\n",
    "\n",
    "print(find_uppercase_followed_by_lowercase(\"Hello World FooBar\"))"
   ]
  },
  {
   "cell_type": "markdown",
   "metadata": {},
   "source": [
    "Task 5:"
   ]
  },
  {
   "cell_type": "code",
   "execution_count": 6,
   "metadata": {},
   "outputs": [
    {
     "name": "stdout",
     "output_type": "stream",
     "text": [
      "True\n",
      "True\n",
      "True\n",
      "False\n"
     ]
    }
   ],
   "source": [
    "import re\n",
    "\n",
    "def match_a_followed_by_anything_ending_with_b(text):\n",
    "    pattern = r'a.*b$'\n",
    "    if re.fullmatch(pattern, text):\n",
    "        return True\n",
    "    return False\n",
    "\n",
    "print(match_a_followed_by_anything_ending_with_b(\"a123b\"))\n",
    "print(match_a_followed_by_anything_ending_with_b(\"acb\"))\n",
    "print(match_a_followed_by_anything_ending_with_b(\"ab\"))\n",
    "print(match_a_followed_by_anything_ending_with_b(\"abc\"))"
   ]
  },
  {
   "cell_type": "markdown",
   "metadata": {},
   "source": [
    "Task 6:"
   ]
  },
  {
   "cell_type": "code",
   "execution_count": null,
   "metadata": {},
   "outputs": [],
   "source": [
    "import re\n",
    "\n",
    "def replace_spaces_commas_dots_with_colon(text):\n",
    "    return re.sub(r'[ ,.]', ':', text)\n",
    "\n",
    "print(replace_spaces_commas_dots_with_colon(\"Hello, world. This is a test.\")) "
   ]
  },
  {
   "cell_type": "markdown",
   "metadata": {},
   "source": [
    "Task 7:"
   ]
  },
  {
   "cell_type": "code",
   "execution_count": null,
   "metadata": {},
   "outputs": [],
   "source": [
    "def snake_to_camel(snake_str):\n",
    "    components = snake_str.split('_')\n",
    "    return components[0] + ''.join(x.title() for x in components[1:])\n",
    "\n",
    "print(snake_to_camel(\"hello_world\")) "
   ]
  },
  {
   "cell_type": "markdown",
   "metadata": {},
   "source": [
    "Task 8:"
   ]
  },
  {
   "cell_type": "code",
   "execution_count": null,
   "metadata": {},
   "outputs": [],
   "source": [
    "import re\n",
    "\n",
    "def split_at_uppercase(text):\n",
    "    return re.findall(r'[A-Z][^A-Z]*', text)\n",
    "\n",
    "print(split_at_uppercase(\"HelloWorldThisIsATest\")) "
   ]
  },
  {
   "cell_type": "markdown",
   "metadata": {},
   "source": [
    "Task 9:"
   ]
  },
  {
   "cell_type": "code",
   "execution_count": null,
   "metadata": {},
   "outputs": [],
   "source": [
    "import re\n",
    "\n",
    "def insert_spaces_between_capitals(text):\n",
    "    return re.sub(r'(?<!^)([A-Z])', r' \\1', text)\n",
    "\n",
    "print(insert_spaces_between_capitals(\"HelloWorldThisIsATest\"))"
   ]
  },
  {
   "cell_type": "markdown",
   "metadata": {},
   "source": [
    "Task 10:"
   ]
  },
  {
   "cell_type": "code",
   "execution_count": null,
   "metadata": {},
   "outputs": [],
   "source": [
    "import re\n",
    "\n",
    "def camel_to_snake(camel_str):\n",
    "    return re.sub(r'(?<!^)([A-Z])', r'_\\1', camel_str).lower()\n",
    "\n",
    "print(camel_to_snake(\"helloWorldThisIsATest\"))"
   ]
  }
 ],
 "metadata": {
  "kernelspec": {
   "display_name": "base",
   "language": "python",
   "name": "python3"
  },
  "language_info": {
   "codemirror_mode": {
    "name": "ipython",
    "version": 3
   },
   "file_extension": ".py",
   "mimetype": "text/x-python",
   "name": "python",
   "nbconvert_exporter": "python",
   "pygments_lexer": "ipython3",
   "version": "3.12.7"
  }
 },
 "nbformat": 4,
 "nbformat_minor": 2
}
