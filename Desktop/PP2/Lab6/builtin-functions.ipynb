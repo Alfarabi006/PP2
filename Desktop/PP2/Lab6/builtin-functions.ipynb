{
 "cells": [
  {
   "cell_type": "markdown",
   "metadata": {},
   "source": [
    "Task 1:"
   ]
  },
  {
   "cell_type": "code",
   "execution_count": null,
   "metadata": {},
   "outputs": [],
   "source": [
    "from functools import reduce\n",
    "\n",
    "def multiply_list(numbers):\n",
    "    return reduce(lambda x, y: x * y, numbers)\n",
    "\n",
    "numbers = [1, 2, 3, 4, 5]\n",
    "result = multiply_list(numbers)\n",
    "print(f\"The product of the numbers in the list is: {result}\")"
   ]
  },
  {
   "cell_type": "markdown",
   "metadata": {},
   "source": [
    "Task 2:"
   ]
  },
  {
   "cell_type": "code",
   "execution_count": null,
   "metadata": {},
   "outputs": [],
   "source": [
    "def count_upper_lower(string):\n",
    "    upper_count = sum(1 for char in string if char.isupper())\n",
    "    lower_count = sum(1 for char in string if char.islower())\n",
    "    return upper_count, lower_count\n",
    "\n",
    "input_string = \"Hello World!\"\n",
    "upper, lower = count_upper_lower(input_string)\n",
    "print(f\"Uppercase letters: {upper}, Lowercase letters: {lower}\")"
   ]
  },
  {
   "cell_type": "markdown",
   "metadata": {},
   "source": [
    "Task 3:"
   ]
  },
  {
   "cell_type": "code",
   "execution_count": null,
   "metadata": {},
   "outputs": [],
   "source": [
    "def is_palindrome(string):\n",
    "    cleaned_string = ''.join(char.lower() for char in string if char.isalnum())\n",
    "    return cleaned_string == cleaned_string[::-1]\n",
    "\n",
    "input_string = \"A man, a plan, a canal, Panama\"\n",
    "if is_palindrome(input_string):\n",
    "    print(f\"'{input_string}' is a palindrome.\")\n",
    "else:\n",
    "    print(f\"'{input_string}' is not a palindrome.\")"
   ]
  },
  {
   "cell_type": "markdown",
   "metadata": {},
   "source": [
    "Task 4:"
   ]
  },
  {
   "cell_type": "code",
   "execution_count": null,
   "metadata": {},
   "outputs": [],
   "source": [
    "import time\n",
    "import math\n",
    "\n",
    "def delayed_sqrt(number, delay_ms):\n",
    "    time.sleep(delay_ms / 1000)\n",
    "    return math.sqrt(number)\n",
    "\n",
    "number = 25100\n",
    "delay_ms = 2123\n",
    "result = delayed_sqrt(number, delay_ms)\n",
    "print(f\"Square root of {number} after {delay_ms} milliseconds is {result}\")"
   ]
  },
  {
   "cell_type": "markdown",
   "metadata": {},
   "source": [
    "Task 5:"
   ]
  },
  {
   "cell_type": "code",
   "execution_count": null,
   "metadata": {},
   "outputs": [],
   "source": [
    "def all_true(tuple_data):\n",
    "    return all(tuple_data)\n",
    "\n",
    "\n",
    "tuple_data = (True, True, True, True)\n",
    "if all_true(tuple_data):\n",
    "    print(\"All elements in the tuple are true.\")\n",
    "else:\n",
    "    print(\"Not all elements in the tuple are true.\")"
   ]
  }
 ],
 "metadata": {
  "kernelspec": {
   "display_name": "base",
   "language": "python",
   "name": "python3"
  },
  "language_info": {
   "name": "python",
   "version": "3.12.7"
  }
 },
 "nbformat": 4,
 "nbformat_minor": 2
}
