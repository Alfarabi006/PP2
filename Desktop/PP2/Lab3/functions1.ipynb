{
 "cells": [
  {
   "cell_type": "markdown",
   "metadata": {},
   "source": [
    "Task 1:"
   ]
  },
  {
   "cell_type": "code",
   "execution_count": null,
   "metadata": {},
   "outputs": [],
   "source": [
    "def task1(a):\n",
    "    return 28.3495231 * a\n",
    "\n",
    "print(task1(int(input())))"
   ]
  },
  {
   "cell_type": "markdown",
   "metadata": {},
   "source": [
    "Task 2:"
   ]
  },
  {
   "cell_type": "code",
   "execution_count": null,
   "metadata": {},
   "outputs": [],
   "source": [
    "def task2(a):\n",
    "    return (5 / 9) * (a - 32)\n",
    "\n",
    "print(task2(int(input())))"
   ]
  },
  {
   "cell_type": "markdown",
   "metadata": {},
   "source": [
    "Task 3:"
   ]
  },
  {
   "cell_type": "code",
   "execution_count": null,
   "metadata": {},
   "outputs": [],
   "source": [
    "def task3(a, b):\n",
    "    for x in range(a + 1):\n",
    "        c = a - x\n",
    "        if 2 * c + 4 * x == b:\n",
    "            return c, x\n",
    "    return \"No solution\"\n",
    "\n",
    "print(task3(int(input()), int(input())))"
   ]
  },
  {
   "cell_type": "markdown",
   "metadata": {},
   "source": [
    "Task 4:"
   ]
  },
  {
   "cell_type": "code",
   "execution_count": null,
   "metadata": {},
   "outputs": [],
   "source": [
    "def task4(n):\n",
    "    if n <= 1:\n",
    "        return False\n",
    "    for i in range(2, int(n**0.5) + 1):\n",
    "        if n % i == 0:\n",
    "            return False\n",
    "    return True\n",
    "\n",
    "def kast(a):\n",
    "    return [x for x in a if task4(x)]\n",
    "\n",
    "print(kast([1, 2, 3, 4, 5, 6, 7, 8, 9, 10]))"
   ]
  },
  {
   "cell_type": "markdown",
   "metadata": {},
   "source": [
    "Task 5:"
   ]
  },
  {
   "cell_type": "code",
   "execution_count": null,
   "metadata": {},
   "outputs": [],
   "source": [
    "from itertools import permutations\n",
    "\n",
    "def task5(s):\n",
    "    a = [''.join(p) for p in permutations(s)]\n",
    "    for x in a:\n",
    "        print(x)\n",
    "\n",
    "task5(str(input(\"\")))"
   ]
  },
  {
   "cell_type": "markdown",
   "metadata": {},
   "source": [
    "Task 6"
   ]
  },
  {
   "cell_type": "code",
   "execution_count": null,
   "metadata": {},
   "outputs": [],
   "source": [
    "def task6(a):\n",
    "    return ' '.join(a.split()[::-1])\n",
    "\n",
    "print(task6(str(input(\"\"))))"
   ]
  },
  {
   "cell_type": "markdown",
   "metadata": {},
   "source": [
    "Task 7:"
   ]
  },
  {
   "cell_type": "code",
   "execution_count": null,
   "metadata": {},
   "outputs": [],
   "source": [
    "def task7(a):\n",
    "    for i in range(len(a) - 1):\n",
    "        if a[i] == 3 and a[i + 1] == 3:\n",
    "            return True\n",
    "    return False\n",
    "\n",
    "\n",
    "print(task7([1, 3, 1, 3]))"
   ]
  },
  {
   "cell_type": "markdown",
   "metadata": {},
   "source": [
    "Task 8:"
   ]
  },
  {
   "cell_type": "code",
   "execution_count": null,
   "metadata": {},
   "outputs": [],
   "source": [
    "def task8(a):\n",
    "    n = [0, 0, 7]\n",
    "    m = 0\n",
    "    for x in a:\n",
    "        if x == n[m]:\n",
    "            m += 1\n",
    "            if m == len(n):\n",
    "                return True\n",
    "    return False\n",
    "\n",
    "\n",
    "print(task8([1, 2, 4, 0, 0, 7, 5]))\n"
   ]
  },
  {
   "cell_type": "markdown",
   "metadata": {},
   "source": [
    "Task 9:"
   ]
  },
  {
   "cell_type": "code",
   "execution_count": null,
   "metadata": {},
   "outputs": [],
   "source": [
    "import math\n",
    "\n",
    "def task9(a):\n",
    "    return (4 / 3) * math.pi * (a ** 3)\n",
    "\n",
    "\n",
    "print(task9(int(input())))"
   ]
  },
  {
   "cell_type": "markdown",
   "metadata": {},
   "source": [
    "Task 10:"
   ]
  },
  {
   "cell_type": "code",
   "execution_count": null,
   "metadata": {},
   "outputs": [],
   "source": [
    "def task10(a):\n",
    "    m = []\n",
    "    for x in a:\n",
    "        if x not in m:\n",
    "            m.append(x)\n",
    "    return m\n",
    "\n",
    "\n",
    "print(task10([1, 2, 2, 3, 4, 4, 5]))"
   ]
  },
  {
   "cell_type": "markdown",
   "metadata": {},
   "source": [
    "Task 11:"
   ]
  },
  {
   "cell_type": "code",
   "execution_count": null,
   "metadata": {},
   "outputs": [],
   "source": [
    "def task11(a):\n",
    "    a = a.replace(\" \", \"\").lower()\n",
    "    return a == a[::-1]\n",
    "\n",
    "\n",
    "print(task11(\"madam\"))"
   ]
  },
  {
   "cell_type": "markdown",
   "metadata": {},
   "source": [
    "Task 12:"
   ]
  },
  {
   "cell_type": "code",
   "execution_count": null,
   "metadata": {},
   "outputs": [],
   "source": [
    "def task12(a):\n",
    "    for x in a:\n",
    "        print('*' * x)\n",
    "\n",
    "task12([4, 9, 7])"
   ]
  },
  {
   "cell_type": "markdown",
   "metadata": {},
   "source": [
    "Task 13:\n"
   ]
  },
  {
   "cell_type": "code",
   "execution_count": null,
   "metadata": {},
   "outputs": [],
   "source": [
    "import random\n",
    "\n",
    "def task13():\n",
    "    a = input(\"Hello! What is your name?\\n\")\n",
    "    print(f\"Well, {a}, I am thinking of a number between 1 and 20.\")\n",
    "    b = random.randint(1, 20)\n",
    "    c = 0\n",
    "\n",
    "    while True:\n",
    "        d = int(input(\"Take a guess.\\n\"))\n",
    "        c += 1\n",
    "        if d < b:\n",
    "            print(\"Your guess is too low.\")\n",
    "        elif d > b:\n",
    "            print(\"Your guess is too high.\")\n",
    "        else:\n",
    "            print(f\"Good job, {a}! You guessed my number in {c} guesses!\")\n",
    "            break\n",
    "\n",
    "task13()"
   ]
  }
 ],
 "metadata": {
  "kernelspec": {
   "display_name": "base",
   "language": "python",
   "name": "python3"
  },
  "language_info": {
   "codemirror_mode": {
    "name": "ipython",
    "version": 3
   },
   "file_extension": ".py",
   "mimetype": "text/x-python",
   "name": "python",
   "nbconvert_exporter": "python",
   "pygments_lexer": "ipython3",
   "version": "3.12.7"
  }
 },
 "nbformat": 4,
 "nbformat_minor": 2
}
