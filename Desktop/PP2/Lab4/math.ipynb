{
 "cells": [
  {
   "cell_type": "markdown",
   "metadata": {},
   "source": [
    "Task 1:"
   ]
  },
  {
   "cell_type": "code",
   "execution_count": null,
   "metadata": {},
   "outputs": [],
   "source": [
    "import math\n",
    "\n",
    "\n",
    "degree = float(input(\"Input degree: \"))\n",
    "\n",
    "radian = math.radians(degree)\n",
    "\n",
    "print(\"Output radian:\", round(radian, 6))"
   ]
  },
  {
   "cell_type": "markdown",
   "metadata": {},
   "source": [
    "Task 2:"
   ]
  },
  {
   "cell_type": "code",
   "execution_count": null,
   "metadata": {},
   "outputs": [],
   "source": [
    "height = float(input(\"Height: \"))\n",
    "base1 = float(input(\"Base, first value: \"))\n",
    "base2 = float(input(\"Base, second value: \"))\n",
    "area = 0.5 * (base1 + base2) * height\n",
    "\n",
    "print(\"Expected Output:\", area)"
   ]
  },
  {
   "cell_type": "markdown",
   "metadata": {},
   "source": [
    "Task 3:"
   ]
  },
  {
   "cell_type": "code",
   "execution_count": null,
   "metadata": {},
   "outputs": [],
   "source": [
    "import math\n",
    "\n",
    "num_sides = int(input(\"Input number of sides: \"))\n",
    "side_length = float(input(\"Input the length of a side: \"))\n",
    "area = (num_sides * side_length**2) / (4 * math.tan(math.pi / num_sides))\n",
    "\n",
    "print(\"The area of the polygon is:\", round(area))"
   ]
  },
  {
   "cell_type": "markdown",
   "metadata": {},
   "source": [
    "Task 4:"
   ]
  },
  {
   "cell_type": "code",
   "execution_count": null,
   "metadata": {},
   "outputs": [],
   "source": [
    "base = float(input(\"Length of base: \"))\n",
    "height = float(input(\"Height of parallelogram: \"))\n",
    "\n",
    "area = base * height\n",
    "\n",
    "print(\"Expected Output:\", area)"
   ]
  }
 ],
 "metadata": {
  "kernelspec": {
   "display_name": "base",
   "language": "python",
   "name": "python3"
  },
  "language_info": {
   "name": "python",
   "version": "3.12.7"
  }
 },
 "nbformat": 4,
 "nbformat_minor": 2
}
